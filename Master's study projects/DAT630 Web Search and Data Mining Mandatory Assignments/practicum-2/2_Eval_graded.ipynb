{
 "cells": [
  {
   "cell_type": "markdown",
   "metadata": {},
   "source": [
    "# Retrieval evaluation, graded relevance\n",
    "\n",
    "  - Compute retrieval evaluation metrics using graded relevance: NDCG@5 and NDCG@10\n",
    "  - Compute the metrics for each query individually, as well as the averages over the entire query set"
   ]
  },
  {
   "cell_type": "markdown",
   "metadata": {},
   "source": [
    "### Rankings produced for each query\n",
    "\n",
    "The key is the queryID, the value is a list of docIDs "
   ]
  },
  {
   "cell_type": "code",
   "execution_count": 5,
   "metadata": {
    "collapsed": true
   },
   "outputs": [],
   "source": [
    "rankings = {\n",
    "    \"q1\": [2, 1, 3, 4, 5, 6, 10, 7, 9, 8],\n",
    "    \"q2\": [1, 2, 9, 4, 5, 6, 7, 8, 3, 10],\n",
    "    \"q3\": [1, 7, 4, 5, 3, 6, 9, 8, 10, 2]\n",
    "}"
   ]
  },
  {
   "cell_type": "markdown",
   "metadata": {},
   "source": [
    "### Ground truth\n",
    "\n",
    "The key is the queryID, the value is a dictionary with (docID, level) pairs. Relevance level is on a 3-point scale: non-relevant (0), poor (1), good (2), excellent (3). Documents not listed here are non-relevant (level=0)."
   ]
  },
  {
   "cell_type": "code",
   "execution_count": 6,
   "metadata": {
    "collapsed": false
   },
   "outputs": [],
   "source": [
    "gtruth = {\n",
    "    \"q1\": {4: 3, 1: 2, 2: 1},\n",
    "    \"q2\": {3: 3, 4: 3, 1: 2, 2: 1, 8: 1},\n",
    "    \"q3\": {1: 3, 4: 3, 7: 2, 5: 2, 6: 1, 8: 1}\n",
    "}"
   ]
  },
  {
   "cell_type": "markdown",
   "metadata": {},
   "source": [
    "## Computing evaluation metrics\n",
    "\n",
    "Discounted cumulative gain at rank p:\n",
    "$DCG_p = rel_1 + \\sum_{i=2}^p\\frac{rel_i}{\\log_2 i}$\n",
    "\n",
    "Normalized discounted cumulative gain at rank p:\n",
    "$NDCG_p = \\frac{DCG_p}{IDCG}$\n",
    "\n",
    "where IDCG is the DCG_p score of an idealized (perfect) ranking."
   ]
  },
  {
   "cell_type": "markdown",
   "metadata": {},
   "source": [
    "### Function that computes DCG_p\n",
    "\n",
    "It takes a list of relevance levels (corresponding to the documents) and the rank cutoff p as input"
   ]
  },
  {
   "cell_type": "code",
   "execution_count": 7,
   "metadata": {
    "collapsed": true
   },
   "outputs": [],
   "source": [
    "def dcg(rel, p):\n",
    "    # TODO compute DCG_p\n",
    "    return 0"
   ]
  },
  {
   "cell_type": "code",
   "execution_count": 8,
   "metadata": {
    "collapsed": false
   },
   "outputs": [
    {
     "name": "stdout",
     "output_type": "stream",
     "text": [
      "Evaluating q1\n",
      "\tGains: [1, 2, 0, 3, 0, 0, 0, 0, 0, 0]\n",
      "\tIdeal gains: [3, 2, 1]\n",
      "Evaluating q2\n",
      "\tGains: [2, 1, 0, 3, 0, 0, 0, 1, 3, 0]\n",
      "\tIdeal gains: [3, 3, 2, 1, 1]\n",
      "Evaluating q3\n",
      "\tGains: [3, 2, 3, 2, 0, 1, 0, 1, 0, 0]\n",
      "\tIdeal gains: [3, 3, 2, 2, 1, 1]\n",
      "Average\n"
     ]
    }
   ],
   "source": [
    "for qid, ranking in sorted(rankings.items()):\n",
    "    gt = gtruth[qid]    \n",
    "    print(\"Evaluating\", qid)\n",
    "    \n",
    "    gains = [] # holds corresponding relevance levels for the ranked docs\n",
    "    for doc_id in ranking: \n",
    "        gain = gt.get(doc_id, 0)\n",
    "        gains.append(gain)\n",
    "    print(\"\\tGains:\", gains)\n",
    "    \n",
    "    # relevance levels of the idealized ranking\n",
    "    gain_ideal = sorted([v for _, v in gt.items()], reverse=True)\n",
    "    print(\"\\tIdeal gains:\", gain_ideal)\n",
    "    \n",
    "    # TODO\n",
    "    # - compute NDCG@5\n",
    "    # - compute NDCG@10\n",
    "    # use the dcg() function from above\n",
    "    \n",
    "print(\"Average\")\n",
    "# TODO average over the entire query set"
   ]
  }
 ],
 "metadata": {
  "kernelspec": {
   "display_name": "Python 3",
   "language": "python",
   "name": "python3"
  },
  "language_info": {
   "codemirror_mode": {
    "name": "ipython",
    "version": 3
   },
   "file_extension": ".py",
   "mimetype": "text/x-python",
   "name": "python",
   "nbconvert_exporter": "python",
   "pygments_lexer": "ipython3",
   "version": "3.6.0"
  }
 },
 "nbformat": 4,
 "nbformat_minor": 0
}
