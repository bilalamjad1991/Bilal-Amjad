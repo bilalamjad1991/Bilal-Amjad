{
 "cells": [
  {
   "cell_type": "markdown",
   "metadata": {},
   "source": [
    "# Term weighting and vector space retrieval\n",
    "\n",
    "Score a toy-sized document collection against a query using the vector space model (i.e., TFIDF term weighting and cosine similarity).\n",
    "\n",
    "This is exactly the same task that was given as a paper-based exercise earlier this week."
   ]
  },
  {
   "cell_type": "code",
   "execution_count": null,
   "metadata": {
    "collapsed": true
   },
   "outputs": [],
   "source": [
    "import math\n",
    "import operator"
   ]
  },
  {
   "cell_type": "markdown",
   "metadata": {},
   "source": [
    "Term-document matrix\n",
    "\n",
    "| term | D1 | D2 | D3 | D4 | D5 |\n",
    "| -- |:--:|:--:|:--:|:--:|:--:|\n",
    "| beijing | | 1 | | | 1 |\n",
    "| dish | | 1 | | | 1 |\n",
    "| duck | 3 | 2 | 2 | | 1 |\n",
    "| rabbit | | | 1 | 1 | |\n",
    "| recipe | | | 1 | 1 | 1 |\n",
    "| roast | | | | | |"
   ]
  },
  {
   "cell_type": "code",
   "execution_count": null,
   "metadata": {
    "collapsed": true
   },
   "outputs": [],
   "source": [
    "td_matrix = {\n",
    "    \"beijing\": [0, 1, 0, 0, 1],\n",
    "    \"dish\": [0, 1, 0, 0, 1],\n",
    "    \"duck\": [3, 2, 2, 0, 1],\n",
    "    \"rabbit\": [0, 0, 1, 1, 0],\n",
    "    \"recipe\": [0, 0, 1, 1, 1],\n",
    "    \"roast\": [0, 0, 0, 0, 0]\n",
    "}"
   ]
  },
  {
   "cell_type": "markdown",
   "metadata": {},
   "source": [
    "The vocabulary is a list of terms. We sort them here, but that's not necessary.\n",
    "(You may use this list each time you need to iterate through the vocabulary of terms.)"
   ]
  },
  {
   "cell_type": "code",
   "execution_count": null,
   "metadata": {
    "collapsed": false
   },
   "outputs": [],
   "source": [
    "voc = list(td_matrix.keys())\n",
    "voc.sort()"
   ]
  },
  {
   "cell_type": "markdown",
   "metadata": {},
   "source": [
    "The number of documents is set manually for simplicity"
   ]
  },
  {
   "cell_type": "code",
   "execution_count": null,
   "metadata": {
    "collapsed": true
   },
   "outputs": [],
   "source": [
    "NUM_DOCS = 5"
   ]
  },
  {
   "cell_type": "markdown",
   "metadata": {},
   "source": [
    "The query is given as a sequence of terms"
   ]
  },
  {
   "cell_type": "code",
   "execution_count": null,
   "metadata": {
    "collapsed": true
   },
   "outputs": [],
   "source": [
    "query = [\"beijing\", \"duck\", \"recipe\"]"
   ]
  },
  {
   "cell_type": "markdown",
   "metadata": {},
   "source": [
    "## TFIDF term weighting\n",
    "\n",
    "Use normalized frequencies for TF weight, i.e., $tf_{t,d}=\\frac{f_{t,d}}{|d|}$, where $f_{t,d}$ is the number of occurrences of term $t$ in document $d$ and $|d|$ is the document length (=total number of terms).\n",
    "\n",
    "Compute IDF values using the following formula: $idf_{t}=\\log \\frac{N}{n_t}$, where $N$ is the total number of document and $n_t$ is the number of documents that contain term $t$.  (Use base 10 for the logarithm to get the same values as for the paper-based exercise.)"
   ]
  },
  {
   "cell_type": "code",
   "execution_count": null,
   "metadata": {
    "collapsed": true
   },
   "outputs": [],
   "source": [
    "idf = []  # idf[i] holds the IDF weight for term voc[i]\n",
    "for t in voc:\n",
    "    idf.append(0)  # TODO compute the IDF value of term t"
   ]
  },
  {
   "cell_type": "code",
   "execution_count": null,
   "metadata": {
    "collapsed": false
   },
   "outputs": [],
   "source": [
    "idf"
   ]
  },
  {
   "cell_type": "markdown",
   "metadata": {},
   "source": [
    "### Term weighting for documents\n",
    "\n",
    "Takes term-document matrix as an argument."
   ]
  },
  {
   "cell_type": "code",
   "execution_count": null,
   "metadata": {
    "collapsed": false
   },
   "outputs": [],
   "source": [
    "def tfidf_docs(tdm):\n",
    "    tdm_tfidf = {}\n",
    "    \n",
    "    dlen = []  # dlen[i] stores the length of the i-th document\n",
    "    \n",
    "    # iterate through terms\n",
    "    for t in voc:\n",
    "        td = tdm[t]  # vector of docs for the given term\n",
    "        tdm_tfidf[t] = []\n",
    "        for d, f in enumerate(td):\n",
    "            # f is the frequency of term t for doc d\n",
    "            # TODO compute TFIDF score for term t in doc d\n",
    "            tfidf = f\n",
    "            tdm_tfidf[t].append(tfidf)\n",
    "    \n",
    "    return tdm_tfidf"
   ]
  },
  {
   "cell_type": "markdown",
   "metadata": {},
   "source": [
    "Perform TFIDF-weighting for documents"
   ]
  },
  {
   "cell_type": "code",
   "execution_count": null,
   "metadata": {
    "collapsed": false
   },
   "outputs": [],
   "source": [
    "tdm_tfidf = tfidf_docs(td_matrix)"
   ]
  },
  {
   "cell_type": "code",
   "execution_count": null,
   "metadata": {
    "collapsed": false
   },
   "outputs": [],
   "source": [
    "tdm_tfidf"
   ]
  },
  {
   "cell_type": "markdown",
   "metadata": {},
   "source": [
    "## TFIDF term weighting for the query\n",
    "\n",
    "Takes query term vector as an argument"
   ]
  },
  {
   "cell_type": "code",
   "execution_count": null,
   "metadata": {
    "collapsed": true
   },
   "outputs": [],
   "source": [
    "def tfidf_q(tqv):\n",
    "    tqv_tfidf = []\n",
    "    for i, t in enumerate(voc):\n",
    "        # TODO compute TFIDF\n",
    "        # tqv[i] holds the raw frequency for term t\n",
    "        tfidf = tqv[i]\n",
    "        tqv_tfidf.append(tfidf)\n",
    "    return tqv_tfidf"
   ]
  },
  {
   "cell_type": "markdown",
   "metadata": {},
   "source": [
    "Create a term vector for the query and perform TFIDF weighting"
   ]
  },
  {
   "cell_type": "code",
   "execution_count": null,
   "metadata": {
    "collapsed": true
   },
   "outputs": [],
   "source": [
    "tqv = []\n",
    "for t in voc:\n",
    "    tqv.append(query.count(t) if t in query else 0)"
   ]
  },
  {
   "cell_type": "code",
   "execution_count": null,
   "metadata": {
    "collapsed": false
   },
   "outputs": [],
   "source": [
    "tqv_tfidf = tfidf_q(tqv)"
   ]
  },
  {
   "cell_type": "markdown",
   "metadata": {
    "collapsed": false
   },
   "source": [
    "Print original and TFIDF-weighted query vectors"
   ]
  },
  {
   "cell_type": "code",
   "execution_count": null,
   "metadata": {
    "collapsed": false
   },
   "outputs": [],
   "source": [
    "print(tqv, \"=>\", tqv_tfidf)"
   ]
  },
  {
   "cell_type": "markdown",
   "metadata": {},
   "source": [
    "## Scoring documents"
   ]
  },
  {
   "cell_type": "markdown",
   "metadata": {},
   "source": [
    "### Cosine similarity between a document and a query vector\n",
    "\n",
    "$cosine(\\mathbf{d}, \\mathbf{q})= \\frac{\\mathbf{d} \\cdot \\mathbf{q}}{||\\mathbf{d}||~||\\mathbf{q}||} =\\frac{\\sum_{t} w_{t,d}\\cdot w_{t,q}}{\\sqrt{\\sum_{t} w_{t,d}^2 \\sum_{t} w_{t,q}^2}}$"
   ]
  },
  {
   "cell_type": "code",
   "execution_count": null,
   "metadata": {
    "collapsed": false
   },
   "outputs": [],
   "source": [
    "def cosine(dv, qv):\n",
    "    sumdq, sumd, sumq = 0, 0, 0\n",
    "    # Iterate two lists parallel    \n",
    "    for wtd, wtq in zip(dv, qv):\n",
    "        sumdq += wtd * wtq\n",
    "        sumd += wtd**2\n",
    "        sumq += wtq**2\n",
    "    return sumdq / math.sqrt(sumd * sumq)"
   ]
  },
  {
   "cell_type": "markdown",
   "metadata": {},
   "source": [
    "### Scoring"
   ]
  },
  {
   "cell_type": "code",
   "execution_count": null,
   "metadata": {
    "collapsed": false
   },
   "outputs": [],
   "source": [
    "scores = {}\n",
    "\n",
    "for d in range(NUM_DOCS):\n",
    "    dtv = []\n",
    "    for t in voc:\n",
    "        dtv.append(tdm_tfidf[t][d])\n",
    "    score = round(cosine(dtv, tqv_tfidf), 3)  # round to 3 digits\n",
    "    scores[d] = score\n",
    "    print(\"scoring D\" + str(d), dtv, \"vs. \", tqv_tfidf, score)    "
   ]
  },
  {
   "cell_type": "markdown",
   "metadata": {},
   "source": [
    "#### Output documents sorted by relevance score"
   ]
  },
  {
   "cell_type": "code",
   "execution_count": null,
   "metadata": {
    "collapsed": false
   },
   "outputs": [],
   "source": [
    "for d, score in sorted(scores.items(), key=operator.itemgetter(1), reverse=True):\n",
    "    print(\"D\" + str(d+1) + \": \" + str(score))"
   ]
  }
 ],
 "metadata": {
  "kernelspec": {
   "display_name": "Python 3",
   "language": "python",
   "name": "python3"
  },
  "language_info": {
   "codemirror_mode": {
    "name": "ipython",
    "version": 3
   },
   "file_extension": ".py",
   "mimetype": "text/x-python",
   "name": "python",
   "nbconvert_exporter": "python",
   "pygments_lexer": "ipython3",
   "version": "3.6.0"
  }
 },
 "nbformat": 4,
 "nbformat_minor": 0
}
