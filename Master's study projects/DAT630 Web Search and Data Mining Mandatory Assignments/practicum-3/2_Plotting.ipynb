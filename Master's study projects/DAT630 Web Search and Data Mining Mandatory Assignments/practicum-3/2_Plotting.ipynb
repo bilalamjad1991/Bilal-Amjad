{
 "cells": [
  {
   "cell_type": "markdown",
   "metadata": {},
   "source": [
    "# Simple plotting with matplotlib\n",
    "\n",
    "Make a histrogram from the provided values.\n",
    "\n",
    "- Set the color of the bars\n",
    "- Add a title to the plot\n",
    "- Set the value labels\n",
    "\n",
    "See the [official matplotlib documentation](https://matplotlib.org/devdocs/api/_as_gen/matplotlib.pyplot.hist.html) for making a histogram."
   ]
  },
  {
   "cell_type": "code",
   "execution_count": 1,
   "metadata": {
    "collapsed": true
   },
   "outputs": [],
   "source": [
    "import matplotlib.pyplot as plt"
   ]
  },
  {
   "cell_type": "markdown",
   "metadata": {},
   "source": [
    "This is the data we want to visualize using a histrogram. These values could, for example, be performance differences between two retrieval systems (i.e., delta AP between an improved and a baseline system)."
   ]
  },
  {
   "cell_type": "code",
   "execution_count": 2,
   "metadata": {
    "collapsed": true
   },
   "outputs": [],
   "source": [
    "values = [0.1, 0.75, 0.05, -0.1, -0.17, 0.2, -0.3, 0.03, -0.02, 0.4, 0.35, -0.005, -0.01, 0.3]"
   ]
  },
  {
   "cell_type": "markdown",
   "metadata": {},
   "source": [
    "We ask for bin edges at specific locations."
   ]
  },
  {
   "cell_type": "code",
   "execution_count": 3,
   "metadata": {
    "collapsed": true
   },
   "outputs": [],
   "source": [
    "my_bins = [-1, -0.5, -0.1, 0.1, 0.5, 1]"
   ]
  },
  {
   "cell_type": "markdown",
   "metadata": {},
   "source": [
    "**TODO** Plot values divided into the specified bins"
   ]
  }
 ],
 "metadata": {
  "kernelspec": {
   "display_name": "Python 3",
   "language": "python",
   "name": "python3"
  },
  "language_info": {
   "codemirror_mode": {
    "name": "ipython",
    "version": 3
   },
   "file_extension": ".py",
   "mimetype": "text/x-python",
   "name": "python",
   "nbconvert_exporter": "python",
   "pygments_lexer": "ipython3",
   "version": "3.6.0"
  }
 },
 "nbformat": 4,
 "nbformat_minor": 2
}
