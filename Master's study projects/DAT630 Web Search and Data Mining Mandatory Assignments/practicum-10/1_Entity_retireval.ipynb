{
 "cells": [
  {
   "cell_type": "markdown",
   "metadata": {},
   "source": [
    "# Entity Retrieval\n",
    "\n",
    "A set of queries is given in `data/queries_er.txt`, with the corresponding (graded) relevance judgments in `data/qrels_er.csv`.  Your task is to:\n",
    "\n",
    "  1. Generate a ranked list of entities for each of these queries using the [Nordlys API](http://nordlys.readthedocs.io/en/latest/restful_api.html#api-er) using two different models:\n",
    "    - The default model (which is LM)\n",
    "    - The more advanced MLM model\n",
    "  2. Evaluate the models in terms of NDCG@10.\n",
    "  3. Find the three queries with the biggest improvement, i.e., where the more advanced model outperformed the baseline by the largest margin. Also find the three queries with the biggest deterioration, i.e., where the baseline model outperformed the more advanced model by the largest margin."
   ]
  },
  {
   "cell_type": "code",
   "execution_count": 2,
   "metadata": {
    "collapsed": true
   },
   "outputs": [],
   "source": [
    "QUERIES_FILE = \"data/queries_er.txt\"\n",
    "QRELS_FILE = \"data/qrels_er.csv\""
   ]
  },
  {
   "cell_type": "code",
   "execution_count": 3,
   "metadata": {
    "collapsed": true
   },
   "outputs": [],
   "source": [
    "# scoring of the queries and NDCG computation comes here"
   ]
  },
  {
   "cell_type": "markdown",
   "metadata": {},
   "source": [
    "## Results\n",
    "\n",
    "**TODO** Report your results in the tables below\n",
    "\n",
    "Overall results:\n",
    "\n",
    "| Model | NDCG@10 |\n",
    "| -- | -- |\n",
    "| XXX | *TODO* |\n",
    "| YYY | *TODO* |\n",
    "\n",
    "Queries with the biggest improvement:\n",
    "\n",
    "| # | QueryID | $\\Delta$NDCG@10 |\n",
    "| -- | -- |\n",
    "| 1 | *TODO* | *TODO* |\n",
    "| 2 | *TODO* | *TODO* |\n",
    "| 3 | *TODO* | *TODO* |\n",
    "\n",
    "\n",
    "Queries with the biggest detoriation:\n",
    "\n",
    "| # | QueryID | $\\Delta$NDCG@10 |\n",
    "| -- | -- |\n",
    "| 1 | *TODO* | *TODO* |\n",
    "| 2 | *TODO* | *TODO* |\n",
    "| 3 | *TODO* | *TODO* |"
   ]
  }
 ],
 "metadata": {
  "kernelspec": {
   "display_name": "Python 3",
   "language": "python",
   "name": "python3"
  },
  "language_info": {
   "codemirror_mode": {
    "name": "ipython",
    "version": 3
   },
   "file_extension": ".py",
   "mimetype": "text/x-python",
   "name": "python",
   "nbconvert_exporter": "python",
   "pygments_lexer": "ipython3",
   "version": "3.6.0"
  }
 },
 "nbformat": 4,
 "nbformat_minor": 0
}
