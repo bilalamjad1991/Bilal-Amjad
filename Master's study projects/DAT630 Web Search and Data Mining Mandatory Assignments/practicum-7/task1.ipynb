{
 "cells": [
  {
   "cell_type": "markdown",
   "metadata": {},
   "source": [
    "# Practicum 7: Clustering"
   ]
  },
  {
   "cell_type": "markdown",
   "metadata": {},
   "source": [
    "## Learning objectives:\n",
    "\n",
    "  - Implementing K-Means and Bisecting K-Means clustering algorithms\n",
    "  - Implementing Hierarchical Agglomerative Clustering using different cluster proximities\n",
    "  - Visualizing clusters (scatterplots and dendrograms)"
   ]
  },
  {
   "cell_type": "markdown",
   "metadata": {},
   "source": [
    "## Task 1: Implementing K-Means clustering\n",
    "\n",
    "  - A set of 2D data points are given (generated artificially)\n",
    "  - Select the centroids initially randomly from the data points\n",
    "  - Repeat until the cluster assignments change for less than 1% of the data points\n",
    "  - Visualize the cluster assignments and centroids after each iteration"
   ]
  },
  {
   "cell_type": "code",
   "execution_count": null,
   "metadata": {
    "collapsed": true
   },
   "outputs": [],
   "source": [
    "%matplotlib inline"
   ]
  },
  {
   "cell_type": "code",
   "execution_count": null,
   "metadata": {
    "collapsed": true
   },
   "outputs": [],
   "source": [
    "import sys\n",
    "import math\n",
    "import random\n",
    "import numpy as np\n",
    "import matplotlib.pyplot as plt\n",
    "from sklearn.datasets.samples_generator import make_blobs"
   ]
  },
  {
   "cell_type": "markdown",
   "metadata": {},
   "source": [
    "Compute Eucledian distance between two points given as vectors (lists)"
   ]
  },
  {
   "cell_type": "code",
   "execution_count": null,
   "metadata": {
    "collapsed": true
   },
   "outputs": [],
   "source": [
    "def dist(p1, p2):\n",
    "    s = 0\n",
    "    # TODO\n",
    "    return s"
   ]
  },
  {
   "cell_type": "markdown",
   "metadata": {},
   "source": [
    "Compute the distances of data points to the cluster centroids and assign to point to the cluster with the closest centroid"
   ]
  },
  {
   "cell_type": "code",
   "execution_count": null,
   "metadata": {
    "collapsed": true
   },
   "outputs": [],
   "source": [
    "def clustering(points, centroids):\n",
    "    clusters = []\n",
    "    for p in points:\n",
    "        # compute the distance to all cluster centroids and pick the minimum\n",
    "        # TODO        \n",
    "    return clusters"
   ]
  },
  {
   "cell_type": "markdown",
   "metadata": {},
   "source": [
    "Compute new centroids based on cluster assignments"
   ]
  },
  {
   "cell_type": "code",
   "execution_count": null,
   "metadata": {
    "collapsed": true
   },
   "outputs": [],
   "source": [
    "def update_centroids(k, points, clusters):\n",
    "    # First collect the list of points belonging to each cluster\n",
    "    cpoints = [[] for i in range(k)]  # init list of lists\n",
    "    for i in range(len(points)):\n",
    "        c = clusters[i]  # cluster index\n",
    "        cpoints[c].append(points[i])\n",
    "        \n",
    "    # Then compute the cluster centroids\n",
    "    centroids = []  # centroid[i] is the centroid for cluster i\n",
    "    # TODO\n",
    "    return centroids"
   ]
  },
  {
   "cell_type": "markdown",
   "metadata": {},
   "source": [
    "Perform K-Means clustering on a set of data points given the user-specified parameter k"
   ]
  },
  {
   "cell_type": "code",
   "execution_count": null,
   "metadata": {
    "collapsed": true
   },
   "outputs": [],
   "source": [
    "def kmeans(k, points):\n",
    "    # Select K points as initial centroids\n",
    "    centroids = []\n",
    "    for i in range(k):\n",
    "        j = random.randint(0, len(points))\n",
    "        centroids.append(points[j])\n",
    "\n",
    "    # The `clusters` list holds the cluster assignment (0..k-1) for each data point\n",
    "    clusters = [0] * len(points)  # assign all points to one cluster\n",
    "    changed = len(points)\n",
    "        \n",
    "    # Repeat until the cluster assignments change for less than 1% of the data points\n",
    "    iter = 0\n",
    "    while changed > len(points)*0.01:\n",
    "        iter += 1  # Count iterarions\n",
    "        clusters_old = list(clusters)  # save \"old\" cluster assignments\n",
    "\n",
    "        # Form K clusters by assigning each point to its closest centroid\n",
    "        clusters = clustering(points, centroids)\n",
    "\n",
    "        # Visualize the cluster assignments and centroids\n",
    "        plt.clf()\n",
    "        plt.title(\"Iteration \" + str(iter))\n",
    "        plt.scatter([x[0] for x in points], [x[1] for x in points], c=clusters, marker='o', s=50)\n",
    "        plt.scatter([x[0] for x in centroids], [x[1] for x in centroids], c=range(k), marker=\"+\", s=250)\n",
    "        plt.show()\n",
    "    \n",
    "        # Recompute the centroid of each cluster\n",
    "        centroids = update_centroids(k, points, clusters)\n",
    "\n",
    "        # Count how many points have changed clusters\n",
    "        changed = 0\n",
    "        for i in range(len(clusters)):\n",
    "            if clusters[i] != clusters_old[i]:\n",
    "                changed += 1"
   ]
  },
  {
   "cell_type": "markdown",
   "metadata": {},
   "source": [
    "## Main"
   ]
  },
  {
   "cell_type": "markdown",
   "metadata": {},
   "source": [
    "Generate random data points"
   ]
  },
  {
   "cell_type": "code",
   "execution_count": null,
   "metadata": {
    "collapsed": true
   },
   "outputs": [],
   "source": [
    "N = 200\n",
    "points, clusters = make_blobs(n_samples=N, centers=3, n_features=2, cluster_std=0.8, random_state=0)\n",
    "points = np.array(points).tolist()"
   ]
  },
  {
   "cell_type": "markdown",
   "metadata": {},
   "source": [
    "Perform clustering"
   ]
  },
  {
   "cell_type": "code",
   "execution_count": null,
   "metadata": {
    "collapsed": false
   },
   "outputs": [],
   "source": [
    "kmeans(3, points)"
   ]
  },
  {
   "cell_type": "markdown",
   "metadata": {},
   "source": [
    "Visualize the 'true' clusters"
   ]
  },
  {
   "cell_type": "code",
   "execution_count": null,
   "metadata": {
    "collapsed": false
   },
   "outputs": [],
   "source": [
    "plt.clf()\n",
    "plt.scatter([x[0] for x in points], [x[1] for x in points], c=clusters, marker='o', s=50)\n",
    "plt.title(\"True cluster assignments\")\n",
    "plt.show()"
   ]
  }
 ],
 "metadata": {
  "kernelspec": {
   "display_name": "Python 3",
   "language": "python",
   "name": "python3"
  },
  "language_info": {
   "codemirror_mode": {
    "name": "ipython",
    "version": 3
   },
   "file_extension": ".py",
   "mimetype": "text/x-python",
   "name": "python",
   "nbconvert_exporter": "python",
   "pygments_lexer": "ipython3",
   "version": "3.5.3"
  }
 },
 "nbformat": 4,
 "nbformat_minor": 0
}
