{
 "cells": [
  {
   "cell_type": "markdown",
   "metadata": {},
   "source": [
    "# Practicum 7: Clustering"
   ]
  },
  {
   "cell_type": "markdown",
   "metadata": {},
   "source": [
    "## Task 3: Implementing Hierarchical Agglomerative Clustering\n",
    "\n",
    "  - Cluster the \"Italian cities\" dataset (from Lecture 5) using Hierarchical Agglomerative Clustering\n",
    "  - Implement the Single link (MIN), Complete link (MAX), and Group average methods for comparing cluster proximities\n",
    "  - Bonus: visualize the different clusterings using dendrograms"
   ]
  },
  {
   "cell_type": "code",
   "execution_count": null,
   "metadata": {
    "collapsed": true
   },
   "outputs": [],
   "source": [
    "%matplotlib inline"
   ]
  },
  {
   "cell_type": "code",
   "execution_count": null,
   "metadata": {
    "collapsed": true
   },
   "outputs": [],
   "source": [
    "import sys\n",
    "\n",
    "# There imports are needed for visualizing the clustering using dendrograms\n",
    "from scipy.cluster.hierarchy import dendrogram\n",
    "import matplotlib.pyplot as plt\n",
    "import numpy as np"
   ]
  },
  {
   "cell_type": "markdown",
   "metadata": {},
   "source": [
    "Cities and distances between them"
   ]
  },
  {
   "cell_type": "code",
   "execution_count": null,
   "metadata": {
    "collapsed": true
   },
   "outputs": [],
   "source": [
    "cities = [\"BA\", \"FI\", \"MI\", \"NA\", \"RM\", \"TO\"]\n",
    "\n",
    "dist = [[0, 662, 877, 255, 412, 996],\n",
    "        [662, 0, 295, 468, 268, 400],\n",
    "        [877, 295, 0, 754, 564, 138],\n",
    "        [255, 468, 754, 0, 219, 869],\n",
    "        [412, 268, 564, 219, 0, 669],\n",
    "        [996, 400, 138, 869, 669, 0]]"
   ]
  },
  {
   "cell_type": "markdown",
   "metadata": {},
   "source": [
    "Find the closest pair of clusters based on a proximity matrix.\n",
    "\n",
    "Return a triple: cluster index 1, cluster index 2, and distance between cluster 1 and 2."
   ]
  },
  {
   "cell_type": "code",
   "execution_count": null,
   "metadata": {
    "collapsed": true
   },
   "outputs": [],
   "source": [
    "def closest(prox):\n",
    "    min_dist = sys.maxsize\n",
    "    best_c1 = 0\n",
    "    best_c2 = 0\n",
    "    # TODO\n",
    "    return best_c1, best_c2, min_dist"
   ]
  },
  {
   "cell_type": "markdown",
   "metadata": {},
   "source": [
    "Compute the distance between two clusters.\n",
    "\n",
    "  - `dist` is the distance matrix between the data points\n",
    "  - `c1` is the list of data points (indices) belonging to cluster 1\n",
    "  - `c2` is the list of data points (indices) belonging to cluster 219\n",
    "  - `linkage` is \"min\", \"max\", or \"avg\""
   ]
  },
  {
   "cell_type": "code",
   "execution_count": null,
   "metadata": {
    "collapsed": true
   },
   "outputs": [],
   "source": [
    "def cdist(dist, c1, c2, linkage):\n",
    "    d = 0\n",
    "    if len(c1) > 0 and len(c2) > 0:  # only if both clusters are non-empty\n",
    "        if linkage == \"min\":\n",
    "            # TODO\n",
    "            pass\n",
    "        if linkage == \"max\":\n",
    "            # TODO\n",
    "            pass\n",
    "        if linkage == \"avg\":\n",
    "            # TODO\n",
    "            pass\n",
    "    return d"
   ]
  },
  {
   "cell_type": "markdown",
   "metadata": {},
   "source": [
    "Perform Hierarchical Agglomerative Clustering\n",
    "  - `dist` is a distance matrix\n",
    "  - `linkage` can be \"min\" (single link), \"max\" (complete link), or \"avg\" (group average)"
   ]
  },
  {
   "cell_type": "code",
   "execution_count": null,
   "metadata": {
    "collapsed": false
   },
   "outputs": [],
   "source": [
    "def hac(dist, linkage):\n",
    "    # Clusters are represented as a list of data points belonging to that cluster\n",
    "    clusters = []\n",
    "    # Each data point is a singleton cluster initially\n",
    "    for i in range(len(dist)):\n",
    "        clusters.append([i])\n",
    "\n",
    "    # Compute initial promiximity matrix\n",
    "    prox = []\n",
    "    for c1 in clusters:\n",
    "        c1dist = []  # the row in the proximity matrix corresponding to cluster 1\n",
    "        for c2 in clusters:\n",
    "            c1dist.append(cdist(dist, c1, c2, linkage))\n",
    "        prox.append(c1dist)\n",
    "\n",
    "    linkages = []\n",
    "    \n",
    "    # Repeat until only one cluster remains\n",
    "    num = len(clusters)\n",
    "    while num > 1:\n",
    "        # Find the closest two clusters\n",
    "        c1, c2, min_dist = closest(prox)\n",
    "\n",
    "        # Merge the closest two clusters\n",
    "        clusters.append(clusters[c1] + clusters[c2])\n",
    "        # \"empty\" the clusters that are being merged\n",
    "        clusters[c1] = []\n",
    "        clusters[c2] = []\n",
    "    \n",
    "        # Update the proximity matrix\n",
    "        # Zero out the rows and columns corresponding to the old clusters (that are being merged)\n",
    "        for i in range(len(prox)):\n",
    "            prox[i][c1] = 0\n",
    "            prox[i][c2] = 0\n",
    "            prox[c1][i] = 0\n",
    "            prox[c2][i] = 0\n",
    "\n",
    "        # Add new column and row corresponding to the new cluster        \n",
    "        cnew = len(clusters) - 1  # index of the new matrix\n",
    "        cnewdist = []  # the row in the proximity matrix corresponding to the new cluster\n",
    "        for i in range(cnew):\n",
    "            d = cdist(dist, clusters[i], clusters[cnew], linkage)\n",
    "            prox[i].append(d)  # append column to row i\n",
    "            cnewdist.append(d) \n",
    "        # append new row to proximity matrix        \n",
    "        prox.append(cnewdist + [0])  # distance from itself is 0 by definition\n",
    "\n",
    "        linkages.append([c1, c2, min_dist, len(clusters[cnew])])\n",
    "        num -= 1    \n",
    "\n",
    "    # Return the linkages for visualization\n",
    "    return linkages"
   ]
  },
  {
   "cell_type": "markdown",
   "metadata": {},
   "source": [
    "## Main"
   ]
  },
  {
   "cell_type": "markdown",
   "metadata": {},
   "source": [
    "Cluster data with the three different linkage methods"
   ]
  },
  {
   "cell_type": "code",
   "execution_count": null,
   "metadata": {
    "collapsed": false
   },
   "outputs": [],
   "source": [
    "linkages_min = hac(dist, \"min\")\n",
    "linkages_max = hac(dist, \"max\")\n",
    "linkages_avg = hac(dist, \"avg\")"
   ]
  },
  {
   "cell_type": "markdown",
   "metadata": {},
   "source": [
    "Visualize the clusterings using dendrograms\n",
    "\n",
    "(See http://docs.scipy.org/doc/scipy/reference/generated/scipy.cluster.hierarchy.linkage.html on how to construct the linkage matrix.)"
   ]
  },
  {
   "cell_type": "code",
   "execution_count": null,
   "metadata": {
    "collapsed": false
   },
   "outputs": [],
   "source": [
    "# TODO"
   ]
  }
 ],
 "metadata": {
  "kernelspec": {
   "display_name": "Python 3",
   "language": "python",
   "name": "python3"
  },
  "language_info": {
   "codemirror_mode": {
    "name": "ipython",
    "version": 3
   },
   "file_extension": ".py",
   "mimetype": "text/x-python",
   "name": "python",
   "nbconvert_exporter": "python",
   "pygments_lexer": "ipython3",
   "version": "3.5.3"
  }
 },
 "nbformat": 4,
 "nbformat_minor": 0
}
