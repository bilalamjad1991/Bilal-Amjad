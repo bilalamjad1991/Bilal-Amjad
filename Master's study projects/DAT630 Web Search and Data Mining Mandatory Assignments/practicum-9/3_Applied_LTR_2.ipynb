{
 "cells": [
  {
   "cell_type": "markdown",
   "metadata": {},
   "source": [
    "## Applied LTR, Part II.\n",
    "\n",
    "Building on Part I of this exercise, expand it as follows.\n",
    "\n",
    "1. **Apply min-max normalization on the feature values** and see if it changes retrieval performance. Note that you need to use the same folds for cross-validation, in order to make it a fair comparison.\n",
    "  - Min-max normalization: $\\tilde{x}_i = \\frac{x_i -\\min(x)}{\\max(x) - \\min(x)}$\n",
    "    - $x_1,\\dots,x_n$ are the original values for a given feature\n",
    "    - $\\tilde{x}_i$ is the transformed feature value for the $i$th instance\n",
    "2. **Add query and document features to your feature vector** and evaluate performance. \n",
    "  - Example query features\n",
    "    - The length of the query, i.e., number of terms\n",
    "    - Avg. IDF score of query terms\n",
    "  - Example document features\n",
    "    - The length of each field (title, content), i.e., number of terms"
   ]
  }
 ],
 "metadata": {
  "kernelspec": {
   "display_name": "Python 3",
   "language": "python",
   "name": "python3"
  },
  "language_info": {
   "codemirror_mode": {
    "name": "ipython",
    "version": 3
   },
   "file_extension": ".py",
   "mimetype": "text/x-python",
   "name": "python",
   "nbconvert_exporter": "python",
   "pygments_lexer": "ipython3",
   "version": "3.6.0"
  }
 },
 "nbformat": 4,
 "nbformat_minor": 2
}
