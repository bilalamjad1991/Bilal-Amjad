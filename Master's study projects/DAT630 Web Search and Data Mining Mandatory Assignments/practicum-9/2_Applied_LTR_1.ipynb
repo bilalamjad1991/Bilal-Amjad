{
 "cells": [
  {
   "cell_type": "markdown",
   "metadata": {},
   "source": [
    "## Applied LTR, Part I.\n",
    "\n",
    "Based on the previous example, apply LTR using the queries and collection from Assignment 1. (The query and qrels files to use are [here](https://github.com/kbalog/uis-dat630-fall2017/tree/master/assignment-1/data).)\n",
    "\n",
    "1. **Extract features** for all document-query pairs from the qrels (i.e., all documents with relevance assessments).\n",
    "Use the following features (all are retrieval scores that you have computed for Assignment 1; we do not apply any normalization here):  \n",
    "  - BM25 retrieval score of the query against each field (title, content)\n",
    "  - LM retrieval score of the query against each field (title, content) using Jelinek-Mercer smoothing\n",
    "  - LM retrieval score of the query against each field (title, content) using Dirichlet smoothing\n",
    "\n",
    "2. **Train and evaluate the model using 5-fold cross-validation**"
   ]
  }
 ],
 "metadata": {
  "kernelspec": {
   "display_name": "Python 3",
   "language": "python",
   "name": "python3"
  },
  "language_info": {
   "codemirror_mode": {
    "name": "ipython",
    "version": 3
   },
   "file_extension": ".py",
   "mimetype": "text/x-python",
   "name": "python",
   "nbconvert_exporter": "python",
   "pygments_lexer": "ipython3",
   "version": "3.6.0"
  }
 },
 "nbformat": 4,
 "nbformat_minor": 2
}
