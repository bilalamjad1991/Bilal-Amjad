{
 "cells": [
  {
   "cell_type": "markdown",
   "metadata": {},
   "source": [
    "# Learning-to-Rank example"
   ]
  },
  {
   "cell_type": "code",
   "execution_count": 57,
   "metadata": {
    "collapsed": true
   },
   "outputs": [],
   "source": [
    "from sklearn.ensemble import RandomForestRegressor\n",
    "import numpy as np"
   ]
  },
  {
   "cell_type": "markdown",
   "metadata": {},
   "source": [
    "## A class for pointwise-based learning to rank model"
   ]
  },
  {
   "cell_type": "code",
   "execution_count": 63,
   "metadata": {
    "collapsed": true
   },
   "outputs": [],
   "source": [
    "class PointWiseLTRModel(object):\n",
    "    def __init__(self, regressor):\n",
    "        \"\"\"\n",
    "        :param classifier: an instance of scikit-learn regressor\n",
    "        \"\"\"\n",
    "        self.regressor = regressor\n",
    "\n",
    "    def _train(self, X, y):\n",
    "        \"\"\"\n",
    "        Trains and LTR model.\n",
    "        :param X: features of training instances\n",
    "        :param y: relevance assessments of training instances\n",
    "        :return:\n",
    "        \"\"\"\n",
    "        assert self.regressor is not None\n",
    "        self.model = self.regressor.fit(X, y)\n",
    "\n",
    "    def rank(self, ft, doc_ids):\n",
    "        \"\"\"\n",
    "        Predicts relevance labels and rank documents for a given query\n",
    "        :param ft: a list of features for query-doc pairs\n",
    "        :param ft: a list of document ids\n",
    "        :return:\n",
    "        \"\"\"\n",
    "        assert self.model is not None\n",
    "        rel_labels = self.model.predict(ft)\n",
    "        sort_indices = np.argsort(rel_labels)[::-1]\n",
    "\n",
    "        results = []\n",
    "        for i in sort_indices:\n",
    "            results.append((doc_ids[i], rel_labels[i]))\n",
    "        return results"
   ]
  },
  {
   "cell_type": "markdown",
   "metadata": {},
   "source": [
    "## Read data from file"
   ]
  },
  {
   "cell_type": "code",
   "execution_count": 59,
   "metadata": {
    "collapsed": true
   },
   "outputs": [],
   "source": [
    "def read_data_from_file(path):\n",
    "    \"\"\"\n",
    "    :param path: path of file\n",
    "    :return: X features of data, y labels of data, group a list of numbers indicate how many instances for each query\n",
    "    \"\"\"\n",
    "    X, y, qids, doc_ids = [], [], [], []\n",
    "    with open(path, \"r\") as f:\n",
    "        i, s_qid = 0, None\n",
    "        for line in f:\n",
    "            items = line.strip().split()\n",
    "            label = int(items[0])\n",
    "            qid = items[1]\n",
    "            doc_id = items[2]\n",
    "            features = np.array([float(i.split(\":\")[1]) for i in items[3:]])\n",
    "            X.append(features)\n",
    "            y.append(label)\n",
    "            qids.append(qid)\n",
    "            doc_ids.append(doc_id)\n",
    "\n",
    "    return X, y, qids, doc_ids"
   ]
  },
  {
   "cell_type": "markdown",
   "metadata": {},
   "source": [
    "## Main"
   ]
  },
  {
   "cell_type": "markdown",
   "metadata": {},
   "source": [
    "#### Read input data"
   ]
  },
  {
   "cell_type": "code",
   "execution_count": 64,
   "metadata": {
    "collapsed": false
   },
   "outputs": [
    {
     "name": "stdout",
     "output_type": "stream",
     "text": [
      "#queries:  339\n",
      "#query-doc pairs:  14013\n"
     ]
    }
   ],
   "source": [
    "X, y, qids, doc_ids = read_data_from_file(path=\"sample.txt\")\n",
    "qids_unique= list(set(qids))\n",
    "\n",
    "print(\"#queries: \", len(qids_unique))\n",
    "print(\"#query-doc pairs: \", len(y))\n"
   ]
  },
  {
   "cell_type": "markdown",
   "metadata": {},
   "source": [
    "#### Split data into train and test sets (80% and 20%, respectively)"
   ]
  },
  {
   "cell_type": "code",
   "execution_count": 61,
   "metadata": {
    "collapsed": false
   },
   "outputs": [],
   "source": [
    "train_qids = []\n",
    "test_qids = []\n",
    "\n",
    "for i in range(len(qids_unique)):\n",
    "    qid = qids_unique[i]\n",
    "    if i % 5 == 0:  # test query\n",
    "        test_qids.append(qid)\n",
    "    else:  # train query\n",
    "        train_qids.append(qid)\n",
    "    \n",
    "train_X, train_y = [], []\n",
    "test_X, test_y = [], []\n",
    "\n",
    "for i in range(len(X)):\n",
    "    if qids[i] in train_qids:\n",
    "        train_X.append(X[i])\n",
    "        train_y.append(y[i])\n",
    "    else:\n",
    "        test_X.append(X[i])\n",
    "        test_y.append(y[i])"
   ]
  },
  {
   "cell_type": "markdown",
   "metadata": {},
   "source": [
    "#### Create a regression model and an LTR instance based on that"
   ]
  },
  {
   "cell_type": "code",
   "execution_count": 65,
   "metadata": {
    "collapsed": false
   },
   "outputs": [],
   "source": [
    "clf = RandomForestRegressor(max_depth=3, random_state=0)\n",
    "ltr = PointWiseLTRModel(clf)"
   ]
  },
  {
   "cell_type": "markdown",
   "metadata": {},
   "source": [
    "#### Train LTR model"
   ]
  },
  {
   "cell_type": "code",
   "execution_count": 66,
   "metadata": {
    "collapsed": true
   },
   "outputs": [],
   "source": [
    "ltr._train(train_X, train_y)"
   ]
  },
  {
   "cell_type": "markdown",
   "metadata": {},
   "source": [
    "#### Generate ranking for a test query"
   ]
  },
  {
   "cell_type": "code",
   "execution_count": 67,
   "metadata": {
    "collapsed": false
   },
   "outputs": [
    {
     "name": "stdout",
     "output_type": "stream",
     "text": [
      "[('GX066-05-2211546', 0.55007501419168225), ('GX111-95-16124960', 0.55007501419168225), ('GX265-69-3114302', 0.5130774146669167), ('GX228-89-6124858', 0.47959854798001267), ('GX266-95-13746921', 0.43404533839445475), ('GX234-63-15348127', 0.29647123487437876), ('GX268-49-8192130', 0.29647123487437876), ('GX230-05-2463816', 0.29480247720759362), ('GX240-58-7360101', 0.29480247720759362), ('GX262-53-14945504', 0.29480247720759362), ('GX264-67-6899645', 0.29480247720759362), ('GX272-67-15456013', 0.29480247720759362), ('GX269-14-11574107', 0.29480247720759362), ('GX269-71-1099993', 0.29480247720759362), ('GX266-50-14611773', 0.29398510769686026), ('GX266-83-14646051', 0.28232082058795138), ('GX028-49-4353723', 0.28089334995282539), ('GX031-89-3936030', 0.28089334995282539), ('GX269-15-14813735', 0.27822426863760763), ('GX021-68-10634771', 0.26912890135142448), ('GX059-88-5222624', 0.26746212138462755), ('GX266-22-15189670', 0.2649759942071091), ('GX235-93-4773725', 0.2649759942071091), ('GX056-36-2923735', 0.25692459488753072), ('GX184-42-2961012', 0.25340310784048981), ('GX187-37-13563373', 0.23148946407951737), ('GX247-68-0501366', 0.20343062172279355), ('GX270-07-4356020', 0.16710451057976763), ('GX002-47-7577418', 0.15827792172790112), ('GX271-40-5811908', 0.1507970766647164), ('GX230-65-9165400', 0.1349291939896104), ('GX004-39-9573817', 0.12674992803123469), ('GX172-68-5473951', 0.11344363179381012), ('GX013-93-15055278', 0.11275009113464551), ('GX088-72-11513355', 0.10630154731516314), ('GX011-64-9834319', 0.10630154731516314), ('GX011-29-10867933', 0.10630154731516314), ('GX059-53-12257544', 0.09609176742721795), ('GX005-25-0404147', 0.077290448817016924), ('GX000-00-0000000', 0.06552600021561597)]\n"
     ]
    }
   ],
   "source": [
    "qid = test_qids[0]  # first test query\n",
    "# get the doc_ids and feature vectors for the documents that are to be ranked for this query\n",
    "# Note that this is a really inefficient way of doing this!\n",
    "test_X = []\n",
    "test_doc_ids = []\n",
    "\n",
    "for i in range(len(X)):\n",
    "    if qids[i] == qid:\n",
    "        test_X.append(X[i])\n",
    "        test_doc_ids.append(doc_ids[i])\n",
    "\n",
    "r = ltr.rank(test_X, test_doc_ids)\n",
    "print(r)"
   ]
  }
 ],
 "metadata": {
  "kernelspec": {
   "display_name": "Python 3",
   "language": "python",
   "name": "python3"
  },
  "language_info": {
   "codemirror_mode": {
    "name": "ipython",
    "version": 3
   },
   "file_extension": ".py",
   "mimetype": "text/x-python",
   "name": "python",
   "nbconvert_exporter": "python",
   "pygments_lexer": "ipython3",
   "version": "3.6.0"
  }
 },
 "nbformat": 4,
 "nbformat_minor": 2
}
