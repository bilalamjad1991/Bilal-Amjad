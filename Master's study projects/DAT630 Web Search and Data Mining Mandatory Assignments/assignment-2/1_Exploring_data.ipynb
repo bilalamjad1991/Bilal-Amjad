{
 "cells": [
  {
   "cell_type": "markdown",
   "metadata": {},
   "source": [
    "# Assignment 2 - Part A: Exploring data"
   ]
  },
  {
   "cell_type": "markdown",
   "metadata": {},
   "source": [
    "We import the necessary modules."
   ]
  },
  {
   "cell_type": "code",
   "execution_count": null,
   "metadata": {
    "collapsed": true
   },
   "outputs": [],
   "source": [
    "%matplotlib inline\n",
    "import matplotlib.pyplot as plt\n",
    "import csv\n",
    "import numpy as np"
   ]
  },
  {
   "cell_type": "markdown",
   "metadata": {},
   "source": [
    "Now we load the data set, from the comma-separated training file, storing it as a list of records, where each record is represented with a dict."
   ]
  },
  {
   "cell_type": "code",
   "execution_count": null,
   "metadata": {
    "collapsed": false
   },
   "outputs": [],
   "source": [
    "ATTRS_ALL = [\"LOCATION\", \"W\", \"FINAL_MARGIN\", \"SHOT_NUMBER\", \"PERIOD\", \"GAME_CLOCK\", \"SHOT_CLOCK\", \"DRIBBLES\", \"TOUCH_TIME\", \"SHOT_DIST\", \"PTS_TYPE\", \"CLOSE_DEF_DIST\", \"Target\"]\n",
    "ATTRS_CATEGORICAL = [\"LOCATION\", \"W\", \"PERIOD\", \"PTS_TYPE\", \"Target\"]\n",
    "\n",
    "def load_basketball_data(filename):\n",
    "    records = []\n",
    "    with open(filename, 'rt') as csvfile:\n",
    "        csvreader = csv.reader(csvfile, delimiter=',')\n",
    "        for row in csvreader:\n",
    "            if len(row) == len(ATTRS_ALL):  # 13 attributes, including the target\n",
    "                d = {}\n",
    "                for i, attr in enumerate(ATTRS_ALL):\n",
    "                    d[attr] = row[i] if attr in ATTRS_CATEGORICAL else float(row[i])\n",
    "                records.append(d)\n",
    "    return records\n",
    "\n",
    "basketball_data = load_basketball_data(\"data/basketball.train.csv\")"
   ]
  },
  {
   "cell_type": "markdown",
   "metadata": {},
   "source": [
    "## Summary statistics and boxplots"
   ]
  },
  {
   "cell_type": "markdown",
   "metadata": {},
   "source": [
    "Choose 3 numeric attributes and complete the table with the summary statistics.\n",
    "\n",
    "| Attribute | Mean | Median | Range | Variance | AAD | MAD | IQR |\n",
    "| --- | --- | --- | --- | --- | --- | --- | --- |\n",
    "| FINAL_MARGIN | 0.6593301564224753 | 2.0 | 106.0 | 177.12146016380945 | 10.682380755545257 | 8.659330156422476 | 17.0 |\n",
    "| SHOT_NUMBER | 6.3614409175349325 | 5.0 | 35.0 | 20.555553764073323 | 3.6105975425099235 | 3.3614409175349325 | 6.0 |\n",
    "| DRIBBLES | 1.9388444659828232 | 0.0 | 30.0 | 11.302809051746115 | 2.230453385850392 | 1.9388444659828232 | 2.0 |"
   ]
  },
  {
   "cell_type": "code",
   "execution_count": null,
   "metadata": {
    "collapsed": true
   },
   "outputs": [],
   "source": [
    "# TODO\n",
    "arr = np.array([\n",
    "    [x['FINAL_MARGIN'] for x in basketball_data],\n",
    "    [x['SHOT_NUMBER'] for x in basketball_data],\n",
    "    [x['DRIBBLES'] for x in basketball_data],\n",
    "], float)\n",
    "\n",
    "\n",
    "def attr_mean(values):\n",
    "    return np.mean(values)\n",
    "\n",
    "\n",
    "def attr_median(values):\n",
    "    return np.median(values)\n",
    "\n",
    "\n",
    "def attr_range(values):\n",
    "    return np.ptp(values)\n",
    "\n",
    "\n",
    "def attr_var(values):\n",
    "    return np.var(values, ddof=1)\n",
    "\n",
    "\n",
    "def aad(values):\n",
    "    values_mean = attr_mean(values)\n",
    "    return sum([abs(x - values_mean) for x in values]) / (len(values)) if len(values) > 1 else 0\n",
    "\n",
    "\n",
    "def mad(values):\n",
    "    values_mean = attr_mean(values)\n",
    "    return attr_median([abs(x - values_mean) for x in values]) if len(values) > 1 else 0\n",
    "\n",
    "\n",
    "def iqr(values):\n",
    "    return np.percentile(values, 75) - np.percentile(values, 25)\n",
    "\n",
    "\n",
    "print(\"Mean of ATTR ->     [FINAL_MARGIN]: [{}]\".format(attr_mean(arr[0])))\n",
    "print(\"Mean of ATTR ->      [SHOT_NUMBER]: [{}]\".format(attr_mean(arr[1])))\n",
    "print(\"Mean of ATTR ->         [DRIBBLES]: [{}]\".format(attr_mean(arr[2])))\n",
    "print(\"\")\n",
    "print(\"Median of ATTR ->   [FINAL_MARGIN]: [{}]\".format(attr_median(arr[0])))\n",
    "print(\"Median of ATTR ->    [SHOT_NUMBER]: [{}]\".format(attr_median(arr[1])))\n",
    "print(\"Median of ATTR ->       [DRIBBLES]: [{}]\".format(attr_median(arr[2])))\n",
    "print(\"\")\n",
    "print(\"Range of ATTR ->    [FINAL_MARGIN]: [{}]\".format(attr_range(arr[0])))\n",
    "print(\"Range of ATTR ->     [SHOT_NUMBER]: [{}]\".format(attr_range(arr[1])))\n",
    "print(\"Range of ATTR ->        [DRIBBLES]: [{}]\".format(attr_range(arr[2])))\n",
    "print(\"\")\n",
    "print(\"Variance of ATTR -> [FINAL_MARGIN]: [{}]\".format(attr_var(arr[0])))\n",
    "print(\"Variance of ATTR ->  [SHOT_NUMBER]: [{}]\".format(attr_var(arr[1])))\n",
    "print(\"Variance of ATTR ->     [DRIBBLES]: [{}]\".format(attr_var(arr[2])))\n",
    "print(\"\")\n",
    "print(\"AAD of ATTR ->      [FINAL_MARGIN]: [{}]\".format(aad(arr[0])))\n",
    "print(\"AAD of ATTR ->       [SHOT_NUMBER]: [{}]\".format(aad(arr[1])))\n",
    "print(\"AAD of ATTR ->          [DRIBBLES]: [{}]\".format(aad(arr[2])))\n",
    "print(\"\")\n",
    "print(\"MAD of ATTR ->      [FINAL_MARGIN]: [{}]\".format(mad(arr[0])))\n",
    "print(\"MAD of ATTR ->       [SHOT_NUMBER]: [{}]\".format(mad(arr[1])))\n",
    "print(\"MAD of ATTR ->          [DRIBBLES]: [{}]\".format(mad(arr[2])))\n",
    "print(\"\")\n",
    "print(\"IQR of ATTR ->      [FINAL_MARGIN]: [{}]\".format(iqr(arr[0])))\n",
    "print(\"IQR of ATTR ->       [SHOT_NUMBER]: [{}]\".format(iqr(arr[1])))\n",
    "print(\"IQR of ATTR ->          [DRIBBLES]: [{}]\".format(iqr(arr[2])))"
   ]
  },
  {
   "cell_type": "markdown",
   "metadata": {},
   "source": [
    "For one of those 3 attributes, plot in a single figure 2 boxplots, one per each of the 2 classes."
   ]
  },
  {
   "cell_type": "code",
   "execution_count": null,
   "metadata": {
    "collapsed": true
   },
   "outputs": [],
   "source": [
    "# TODO\n",
    "boxplot_arr = np.array([\n",
    "    [x['FINAL_MARGIN'] for x in basketball_data if x['Target'] == \"made\"],\n",
    "    [x['FINAL_MARGIN'] for x in basketball_data if x['Target'] == \"missed\"],\n",
    "], float)\n",
    "\n",
    "tarr = np.transpose(boxplot_arr)\n",
    "\n",
    "plt.clf()  # this is needed to clear the current figure (prevents multiple labels)\n",
    "plt.boxplot(tarr, labels=[\"made\", \"missed\"])\n",
    "plt.show()"
   ]
  },
  {
   "cell_type": "markdown",
   "metadata": {},
   "source": [
    "## Binarization, histograms and scatter plots"
   ]
  },
  {
   "cell_type": "markdown",
   "metadata": {},
   "source": [
    "You can easily know which are all the possible values of an attribute by converting into a set its list of values."
   ]
  },
  {
   "cell_type": "markdown",
   "metadata": {},
   "source": [
    "Choose 2 categorical attributes (different from the target) and plot each distribution in a histogram."
   ]
  },
  {
   "cell_type": "code",
   "execution_count": null,
   "metadata": {
    "collapsed": true
   },
   "outputs": [],
   "source": [
    "# TODO\n",
    "cat_attr_1 = []\n",
    "loc_attr = [x['LOCATION'] for x in basketball_data]\n",
    "for attr_val in list(set(loc_attr)):\n",
    "    cat_attr_1.append(loc_attr.count(attr_val))\n",
    "\n",
    "cat_attr_2 = []\n",
    "w_attr = [x['W'] for x in basketball_data]\n",
    "for attr_val in list(set(w_attr)):\n",
    "    cat_attr_2.append(w_attr.count(attr_val))\n",
    "\n",
    "\n",
    "plt.clf()  # this is needed to clear the current figure (prevents multiple labels)\n",
    "plt.hist(cat_attr_1, bins=range(min(cat_attr_1), max(cat_attr_1) + 200, 200))\n",
    "plt.hist(cat_attr_2, bins=range(min(cat_attr_2), max(cat_attr_2) + 200, 200))\n",
    "plt.show()"
   ]
  },
  {
   "cell_type": "markdown",
   "metadata": {},
   "source": [
    "Binarize all the categorical attributes (different from the target) to obtain a dataset where each record is a list of zeros and non-zero values."
   ]
  },
  {
   "cell_type": "code",
   "execution_count": null,
   "metadata": {
    "collapsed": true
   },
   "outputs": [],
   "source": [
    "# TODO\n",
    "cat_attr_arr = np.array([\n",
    "    [x['LOCATION'] for x in basketball_data],\n",
    "    [x['W'] for x in basketball_data],\n",
    "    [x['PERIOD'] for x in basketball_data],\n",
    "    [x['PTS_TYPE'] for x in basketball_data]\n",
    "], str)\n",
    "\n",
    "location = list(set(cat_attr_arr[0]))\n",
    "w = list(set(cat_attr_arr[1]))\n",
    "period = sorted(list(set(cat_attr_arr[2])))\n",
    "pts_type = sorted(list(set(cat_attr_arr[3])))\n",
    "\n",
    "\n",
    "def binarize(record):\n",
    "    total_attr_val = len(location) + len(w) + len(period) + len(pts_type)\n",
    "    record_bin = [0] * total_attr_val\n",
    "\n",
    "    record_bin[location.index(record['LOCATION'])] = 1\n",
    "    record_bin[w.index(record['W']) + len(location)] = 1\n",
    "    record_bin[period.index(record['PERIOD']) + len(location) + len(w)] = 1\n",
    "    record_bin[pts_type.index(record['PTS_TYPE']) + len(location) + len(w) + len(period)] = 1\n",
    "\n",
    "    return record_bin\n",
    "\n",
    "\n",
    "records_bin = []\n",
    "for record in basketball_data:\n",
    "    bin_vect = binarize(record)\n",
    "    records_bin.append(bin_vect)\n",
    "    print(\"['LOCATION': {}, 'W': {}, 'PERIOD': {}, 'PTS_TYPE': {} -> {}\".format(record['LOCATION'], record['W'],\n",
    "                                                                                record['PERIOD'], record['PTS_TYPE'],\n",
    "                                                                                bin_vect))"
   ]
  },
  {
   "cell_type": "markdown",
   "metadata": {},
   "source": [
    "Choose 2 numeric attributes and compare them in a scatter plot, with different colors per each class."
   ]
  },
  {
   "cell_type": "code",
   "execution_count": null,
   "metadata": {
    "collapsed": true
   },
   "outputs": [],
   "source": [
    "# TODO\n",
    "c = []\n",
    "for rec in basketball_data:\n",
    "    if rec['Target'] == \"made\":\n",
    "        c.append(\"blue\")\n",
    "    else:\n",
    "        c.append(\"red\")\n",
    "\n",
    "plt.clf()  # this is needed to clear the current figure (prevents multiple labels)\n",
    "plt.scatter(arr[0], arr[1], c=c)\n",
    "plt.xlabel(\"FINAL_MARGIN\")\n",
    "plt.ylabel(\"SHOT_NUMBER\")\n",
    "plt.title(\"FINAL_MARGIN vs SHOT_NUMBER\")\n",
    "plt.show()"
   ]
  }
 ],
 "metadata": {
  "kernelspec": {
   "display_name": "Python 3",
   "language": "python",
   "name": "python3"
  },
  "language_info": {
   "codemirror_mode": {
    "name": "ipython",
    "version": 3
   },
   "file_extension": ".py",
   "mimetype": "text/x-python",
   "name": "python",
   "nbconvert_exporter": "python",
   "pygments_lexer": "ipython3",
   "version": "3.6.0"
  }
 },
 "nbformat": 4,
 "nbformat_minor": 0
}
