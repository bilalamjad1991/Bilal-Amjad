{
 "cells": [
  {
   "cell_type": "markdown",
   "metadata": {},
   "source": [
    "# Focused Web crawling and anchor text extraction\n",
    "\n",
    "The task is to build a simple focused web crawler that crawls pages from a given website (i.e., without leaving a given domain) and extracts anchor text from each of the pages discovered."
   ]
  },
  {
   "cell_type": "code",
   "execution_count": 8,
   "metadata": {
    "collapsed": true
   },
   "outputs": [],
   "source": [
    "DOMAIN = \"wikipedia.org\"  # this is the site we want to crawl; we don't follow links outside this domain\n",
    "START = \"https://en.wikipedia.org/wiki/Stavanger\"  # we start crawling from this URL"
   ]
  },
  {
   "cell_type": "markdown",
   "metadata": {},
   "source": [
    "### This utility function crawls a given URL and extracts all links from it."
   ]
  },
  {
   "cell_type": "code",
   "execution_count": 4,
   "metadata": {
    "collapsed": false
   },
   "outputs": [],
   "source": [
    "from bs4 import BeautifulSoup\n",
    "import urllib.request"
   ]
  },
  {
   "cell_type": "code",
   "execution_count": 22,
   "metadata": {
    "collapsed": false
   },
   "outputs": [],
   "source": [
    "def extract_links(url):\n",
    "    resp = urllib.request.urlopen(url)\n",
    "    soup = BeautifulSoup(resp, \"lxml\", from_encoding=resp.info().get_param('charset'))\n",
    "    links = []\n",
    "    for link in soup.find_all('a', href=True):\n",
    "        links.append((link['href'], link.text))\n",
    "        #print(link['href'], link.text)\n",
    "    return links"
   ]
  },
  {
   "cell_type": "markdown",
   "metadata": {},
   "source": [
    "## Crawler main"
   ]
  },
  {
   "cell_type": "code",
   "execution_count": 23,
   "metadata": {
    "collapsed": false
   },
   "outputs": [],
   "source": [
    "import time"
   ]
  },
  {
   "cell_type": "code",
   "execution_count": 24,
   "metadata": {
    "collapsed": true
   },
   "outputs": [],
   "source": [
    "def crawl(start_url, domain):\n",
    "    visited = set()  # set of URLs visited so far\n",
    "    atext = {}  # anchor text extracted for URLs, i.e., the key is the URL the value is a list of anchor texts\n",
    "    queue = [start_url]\n",
    "    \n",
    "    while len(queue) > 0:\n",
    "        url = queue.pop(0)\n",
    "        print(\"Crawling {} ...\".format(url))\n",
    "        links = extract_links(url)\n",
    "        # TODO for each link\n",
    "        # - add anchor text to the page that is pointed by the link\n",
    "        # - add link to queue if \n",
    "        #   - (i) it is within the target domain \n",
    "        #   - (ii) it hasn't been visited yet\n",
    "        \n",
    "        time.sleep(1)  # wait 1 sec before moving to next page"
   ]
  },
  {
   "cell_type": "markdown",
   "metadata": {},
   "source": [
    "### Start crawling"
   ]
  },
  {
   "cell_type": "code",
   "execution_count": 25,
   "metadata": {
    "collapsed": false
   },
   "outputs": [
    {
     "name": "stdout",
     "output_type": "stream",
     "text": [
      "Crawling https://en.wikipedia.org/wiki/Stavanger ...\n"
     ]
    }
   ],
   "source": [
    "crawl(START, DOMAIN)"
   ]
  }
 ],
 "metadata": {
  "kernelspec": {
   "display_name": "Python 3",
   "language": "python",
   "name": "python3"
  },
  "language_info": {
   "codemirror_mode": {
    "name": "ipython",
    "version": 3
   },
   "file_extension": ".py",
   "mimetype": "text/x-python",
   "name": "python",
   "nbconvert_exporter": "python",
   "pygments_lexer": "ipython3",
   "version": "3.6.0"
  }
 },
 "nbformat": 4,
 "nbformat_minor": 2
}
